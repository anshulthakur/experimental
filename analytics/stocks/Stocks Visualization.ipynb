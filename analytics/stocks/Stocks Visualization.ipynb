{
 "cells": [
  {
   "cell_type": "markdown",
   "metadata": {},
   "source": [
    "Import basic stuff"
   ]
  },
  {
   "cell_type": "code",
   "execution_count": 1,
   "metadata": {},
   "outputs": [],
   "source": [
    "%matplotlib inline\n",
    "\n",
    "import os\n",
    "import sys\n",
    "import settings\n",
    "import matplotlib\n",
    "import numpy as np\n",
    "import matplotlib.pyplot as plt\n",
    "import pandas as pd"
   ]
  },
  {
   "cell_type": "code",
   "execution_count": 2,
   "metadata": {},
   "outputs": [],
   "source": [
    "import django\n",
    "os.environ.setdefault('DJANGO_SETTINGS_MODULE', 'rest.settings')\n",
    "os.environ[\"DJANGO_ALLOW_ASYNC_UNSAFE\"] = \"true\"\n",
    "django.setup()"
   ]
  },
  {
   "cell_type": "code",
   "execution_count": 3,
   "metadata": {},
   "outputs": [],
   "source": [
    "sid = 500820\n",
    "from stocks.models import Listing, Stock"
   ]
  },
  {
   "cell_type": "code",
   "execution_count": 4,
   "metadata": {},
   "outputs": [
    {
     "name": "stdout",
     "output_type": "stream",
     "text": [
      "ASIAN PAINTS LTD.\n"
     ]
    }
   ],
   "source": [
    "stock = Stock.objects.get(security=sid)\n",
    "print(stock)"
   ]
  },
  {
   "cell_type": "code",
   "execution_count": 5,
   "metadata": {},
   "outputs": [
    {
     "name": "stdout",
     "output_type": "stream",
     "text": [
      "5322\n"
     ]
    }
   ],
   "source": [
    "listings = Listing.objects.filter(stock=stock)\n",
    "print(len(listings))"
   ]
  },
  {
   "cell_type": "markdown",
   "metadata": {},
   "source": [
    "Transorm the data for plotting"
   ]
  },
  {
   "cell_type": "code",
   "execution_count": 6,
   "metadata": {},
   "outputs": [],
   "source": [
    "dates = list(map(lambda d: d.date.date(), listings))"
   ]
  },
  {
   "cell_type": "code",
   "execution_count": 7,
   "metadata": {},
   "outputs": [],
   "source": [
    "closing = list(map(lambda d:d.closing, listings))"
   ]
  },
  {
   "cell_type": "code",
   "execution_count": 8,
   "metadata": {},
   "outputs": [],
   "source": [
    "from django_pandas.io import read_frame\n",
    "df = read_frame(listings, index_col='date')"
   ]
  },
  {
   "cell_type": "code",
   "execution_count": 9,
   "metadata": {},
   "outputs": [],
   "source": [
    "for column in df.columns:\n",
    "    if column is not 'stock':\n",
    "       df[column] = pd.to_numeric(df[column]) "
   ]
  },
  {
   "cell_type": "code",
   "execution_count": 10,
   "metadata": {},
   "outputs": [
    {
     "data": {
      "text/html": [
       "<div>\n",
       "<style scoped>\n",
       "    .dataframe tbody tr th:only-of-type {\n",
       "        vertical-align: middle;\n",
       "    }\n",
       "\n",
       "    .dataframe tbody tr th {\n",
       "        vertical-align: top;\n",
       "    }\n",
       "\n",
       "    .dataframe thead th {\n",
       "        text-align: right;\n",
       "    }\n",
       "</style>\n",
       "<table border=\"1\" class=\"dataframe\">\n",
       "  <thead>\n",
       "    <tr style=\"text-align: right;\">\n",
       "      <th></th>\n",
       "      <th>id</th>\n",
       "      <th>opening</th>\n",
       "      <th>high</th>\n",
       "      <th>low</th>\n",
       "      <th>closing</th>\n",
       "      <th>wap</th>\n",
       "      <th>traded</th>\n",
       "      <th>trades</th>\n",
       "      <th>turnover</th>\n",
       "      <th>deliverable</th>\n",
       "      <th>ratio</th>\n",
       "      <th>spread_high_low</th>\n",
       "      <th>spread_close_open</th>\n",
       "      <th>stock</th>\n",
       "    </tr>\n",
       "    <tr>\n",
       "      <th>date</th>\n",
       "      <th></th>\n",
       "      <th></th>\n",
       "      <th></th>\n",
       "      <th></th>\n",
       "      <th></th>\n",
       "      <th></th>\n",
       "      <th></th>\n",
       "      <th></th>\n",
       "      <th></th>\n",
       "      <th></th>\n",
       "      <th></th>\n",
       "      <th></th>\n",
       "      <th></th>\n",
       "      <th></th>\n",
       "    </tr>\n",
       "  </thead>\n",
       "  <tbody>\n",
       "    <tr>\n",
       "      <th>2020-08-21</th>\n",
       "      <td>1291406</td>\n",
       "      <td>1880.5</td>\n",
       "      <td>1971.0</td>\n",
       "      <td>1880.50</td>\n",
       "      <td>1958.35</td>\n",
       "      <td>1932.322319</td>\n",
       "      <td>203246</td>\n",
       "      <td>11873</td>\n",
       "      <td>392736782</td>\n",
       "      <td>48253</td>\n",
       "      <td>23.74</td>\n",
       "      <td>90.50</td>\n",
       "      <td>77.85</td>\n",
       "      <td>ASIAN PAINTS LTD.</td>\n",
       "    </tr>\n",
       "    <tr>\n",
       "      <th>2020-08-20</th>\n",
       "      <td>1291407</td>\n",
       "      <td>1870.0</td>\n",
       "      <td>1880.0</td>\n",
       "      <td>1817.80</td>\n",
       "      <td>1875.25</td>\n",
       "      <td>1866.860247</td>\n",
       "      <td>26325</td>\n",
       "      <td>2056</td>\n",
       "      <td>49145096</td>\n",
       "      <td>4602</td>\n",
       "      <td>17.48</td>\n",
       "      <td>62.20</td>\n",
       "      <td>5.25</td>\n",
       "      <td>ASIAN PAINTS LTD.</td>\n",
       "    </tr>\n",
       "    <tr>\n",
       "      <th>2020-08-19</th>\n",
       "      <td>1291408</td>\n",
       "      <td>1884.0</td>\n",
       "      <td>1902.1</td>\n",
       "      <td>1873.65</td>\n",
       "      <td>1885.70</td>\n",
       "      <td>1890.098407</td>\n",
       "      <td>43889</td>\n",
       "      <td>2979</td>\n",
       "      <td>82954529</td>\n",
       "      <td>7365</td>\n",
       "      <td>16.78</td>\n",
       "      <td>28.45</td>\n",
       "      <td>1.70</td>\n",
       "      <td>ASIAN PAINTS LTD.</td>\n",
       "    </tr>\n",
       "    <tr>\n",
       "      <th>2020-08-18</th>\n",
       "      <td>1291409</td>\n",
       "      <td>1836.0</td>\n",
       "      <td>1883.0</td>\n",
       "      <td>1832.15</td>\n",
       "      <td>1873.60</td>\n",
       "      <td>1860.861469</td>\n",
       "      <td>79513</td>\n",
       "      <td>4883</td>\n",
       "      <td>147962678</td>\n",
       "      <td>17341</td>\n",
       "      <td>21.81</td>\n",
       "      <td>50.85</td>\n",
       "      <td>37.60</td>\n",
       "      <td>ASIAN PAINTS LTD.</td>\n",
       "    </tr>\n",
       "    <tr>\n",
       "      <th>2020-08-17</th>\n",
       "      <td>1291410</td>\n",
       "      <td>1825.0</td>\n",
       "      <td>1841.7</td>\n",
       "      <td>1801.85</td>\n",
       "      <td>1835.85</td>\n",
       "      <td>1824.825983</td>\n",
       "      <td>49547</td>\n",
       "      <td>3274</td>\n",
       "      <td>90414653</td>\n",
       "      <td>12408</td>\n",
       "      <td>25.04</td>\n",
       "      <td>39.85</td>\n",
       "      <td>10.85</td>\n",
       "      <td>ASIAN PAINTS LTD.</td>\n",
       "    </tr>\n",
       "  </tbody>\n",
       "</table>\n",
       "</div>"
      ],
      "text/plain": [
       "                 id  opening    high      low  closing          wap  traded  \\\n",
       "date                                                                          \n",
       "2020-08-21  1291406   1880.5  1971.0  1880.50  1958.35  1932.322319  203246   \n",
       "2020-08-20  1291407   1870.0  1880.0  1817.80  1875.25  1866.860247   26325   \n",
       "2020-08-19  1291408   1884.0  1902.1  1873.65  1885.70  1890.098407   43889   \n",
       "2020-08-18  1291409   1836.0  1883.0  1832.15  1873.60  1860.861469   79513   \n",
       "2020-08-17  1291410   1825.0  1841.7  1801.85  1835.85  1824.825983   49547   \n",
       "\n",
       "            trades   turnover  deliverable  ratio  spread_high_low  \\\n",
       "date                                                                 \n",
       "2020-08-21   11873  392736782        48253  23.74            90.50   \n",
       "2020-08-20    2056   49145096         4602  17.48            62.20   \n",
       "2020-08-19    2979   82954529         7365  16.78            28.45   \n",
       "2020-08-18    4883  147962678        17341  21.81            50.85   \n",
       "2020-08-17    3274   90414653        12408  25.04            39.85   \n",
       "\n",
       "            spread_close_open              stock  \n",
       "date                                              \n",
       "2020-08-21              77.85  ASIAN PAINTS LTD.  \n",
       "2020-08-20               5.25  ASIAN PAINTS LTD.  \n",
       "2020-08-19               1.70  ASIAN PAINTS LTD.  \n",
       "2020-08-18              37.60  ASIAN PAINTS LTD.  \n",
       "2020-08-17              10.85  ASIAN PAINTS LTD.  "
      ]
     },
     "execution_count": 10,
     "metadata": {},
     "output_type": "execute_result"
    }
   ],
   "source": [
    "df.head()"
   ]
  },
  {
   "cell_type": "code",
   "execution_count": 11,
   "metadata": {},
   "outputs": [
    {
     "data": {
      "text/plain": [
       "<AxesSubplot:xlabel='date'>"
      ]
     },
     "execution_count": 11,
     "metadata": {},
     "output_type": "execute_result"
    },
    {
     "data": {
      "image/png": "[encoded data removed]",
      "text/plain": [
       "<Figure size 432x288 with 1 Axes>"
      ]
     },
     "metadata": {
      "needs_background": "light"
     },
     "output_type": "display_data"
    }
   ],
   "source": [
    "df['closing'].plot()"
   ]
  },
  {
   "cell_type": "markdown",
   "metadata": {},
   "source": [
    "* Load up minutewise data of Nifty\n",
    "* Chop it into baskets of days\n",
    "* For each day, find the maximum and also the hover levels at around 1:00pm\n",
    "* Hypotheses is that Short Covering happens nearly every day around 1pm, or 2pm - and particularly on days where morning half sees a good upward rally and little downward rally.\n",
    "* So, if morning has been in strong uptrend, what is the statistical frequency of a 'significant' short-covering\n",
    "* With entry around 1/1:15pm at spot, how many point movement can be expected?\n",
    "* What should be the stop-loss?"
   ]
  },
  {
   "cell_type": "markdown",
   "metadata": {},
   "source": []
  }
 ],
 "metadata": {
  "kernelspec": {
   "display_name": "Python 3",
   "language": "python",
   "name": "python3"
  },
  "language_info": {
   "codemirror_mode": {
    "name": "ipython",
    "version": 3
   },
   "file_extension": ".py",
   "mimetype": "text/x-python",
   "name": "python",
   "nbconvert_exporter": "python",
   "pygments_lexer": "ipython3",
   "version": "3.6.9"
  }
 },
 "nbformat": 4,
 "nbformat_minor": 2
}
