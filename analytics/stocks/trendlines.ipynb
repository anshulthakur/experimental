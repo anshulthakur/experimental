{
 "cells": [
  {
   "cell_type": "code",
   "execution_count": 1,
   "id": "4442535d",
   "metadata": {},
   "outputs": [
    {
     "data": {
      "application/javascript": [
       "IPython.OutputArea.prototype._should_scroll = function(lines) {\n",
       "    return false;\n",
       "}\n"
      ],
      "text/plain": [
       "<IPython.core.display.Javascript object>"
      ]
     },
     "metadata": {},
     "output_type": "display_data"
    }
   ],
   "source": [
    "%%javascript\n",
    "IPython.OutputArea.prototype._should_scroll = function(lines) {\n",
    "    return false;\n",
    "}"
   ]
  },
  {
   "cell_type": "code",
   "execution_count": 2,
   "id": "9901ee0f",
   "metadata": {},
   "outputs": [],
   "source": [
    "#Import basic libraries\n",
    "%matplotlib inline\n",
    "\n",
    "\n",
    "import os\n",
    "import sys\n",
    "import settings\n",
    "import matplotlib\n",
    "import numpy as np\n",
    "import matplotlib.pyplot as plt\n",
    "import pandas as pd\n",
    "\n",
    "from django_pandas.io import read_frame\n",
    "from mplfinance.original_flavor import candlestick_ohlc\n",
    "import matplotlib.dates as mpl_dates\n",
    "\n",
    "from matplotlib.dates import date2num"
   ]
  },
  {
   "cell_type": "code",
   "execution_count": 3,
   "id": "142a4e3a",
   "metadata": {},
   "outputs": [],
   "source": [
    "#Prepare to load stock data as pandas dataframe from source. In this case, prepare django\n",
    "import django\n",
    "os.environ.setdefault('DJANGO_SETTINGS_MODULE', 'rest.settings')\n",
    "os.environ[\"DJANGO_ALLOW_ASYNC_UNSAFE\"] = \"true\"\n",
    "django.setup()\n",
    "\n",
    "from stocks.models import Listing, Stock"
   ]
  },
  {
   "cell_type": "code",
   "execution_count": 4,
   "id": "a4e0ae1b",
   "metadata": {},
   "outputs": [],
   "source": [
    "#Asian paints\n",
    "sid = 500820\n",
    "stock = Stock.objects.get(security=sid)\n",
    "listings = Listing.objects.filter(stock=stock)\n",
    "\n",
    "#Read data into a dataframe\n",
    "df = read_frame(listings, index_col='date')\n",
    "for column in df.columns:\n",
    "    if column != 'stock':\n",
    "       df[column] = pd.to_numeric(df[column]) \n",
    "df = df.sort_index()\n",
    "df = df.reindex(columns = ['opening', 'high', 'low', 'closing', 'traded'])\n",
    "df.rename(columns={\"opening\": \"Open\", \"high\": \"High\", \"low\": \"Low\", \"closing\":\"Close\", \"traded\":\"Volume\"}, inplace=True)"
   ]
  },
  {
   "cell_type": "code",
   "execution_count": 6,
   "id": "24280a26",
   "metadata": {},
   "outputs": [],
   "source": [
    "#Optionally, filter out by date range\n",
    "start_date = '2020-01-01'\n",
    "end_date = '2021-12-31'\n",
    "ticker = 'ASIANPAINTS'\n",
    "\n",
    "df = df.loc[start_date:end_date]\n",
    "h = df.Close.tolist()"
   ]
  },
  {
   "cell_type": "markdown",
   "id": "235da28b",
   "metadata": {},
   "source": [
    "[Source](https://towardsdatascience.com/programmatic-identification-of-support-resistance-trend-lines-with-python-d797a4a90530)\n",
    "\n",
    "## Pivot Points\n",
    "\n",
    "The first issue is to identify pivot points. Our points are going to be the closing prices at a given time. We can refer to these points in the chart as peaks and troughs or as local maxima and local minima."
   ]
  },
  {
   "cell_type": "markdown",
   "id": "682088d8",
   "metadata": {},
   "source": [
    "There is a naive method for doing this as a pivot point would require the point preceding and succeeding to be both lower or both higher than a current point. A naive method has serious shortcomings however, as if the price remained constant for 2 consecutive days, no peak or trough would be detected. Nonetheless the indexes where this scenario did not occurred can be calculated relatively easily"
   ]
  },
  {
   "cell_type": "code",
   "execution_count": 7,
   "id": "bbf75b8b",
   "metadata": {},
   "outputs": [],
   "source": [
    "#Naive method\n",
    "minimaIdxs = np.flatnonzero(\n",
    "                 df.Close.rolling(window=3, min_periods=1, center=True).aggregate(\n",
    "                               lambda x: len(x) == 3 and x[0] > x[1] and x[2] > x[1])).tolist()\n",
    "maximaIdxs = np.flatnonzero(\n",
    "                 df.Close.rolling(window=3, min_periods=1, center=True).aggregate(\n",
    "                   lambda x: len(x) == 3 and x[0] < x[1] and x[2] < x[1])).tolist()"
   ]
  },
  {
   "cell_type": "markdown",
   "id": "3bff8022",
   "metadata": {},
   "source": [
    "## All peaks and troughs handling consecutive duplicates method\n",
    "\n",
    "Certainly, collapsing the places where the price remains constant and the prior code with a different index retrieval would overcome this shortcoming and yield all of them, with a single time in the collapsed flat interval identified. Dropping consecutive duplicates before the above calculation is as simple as: `df.Close.loc[df.Close.shift(-1) != df.Close]`. However indexes need re-computation as they can have changed:"
   ]
  },
  {
   "cell_type": "code",
   "execution_count": 10,
   "id": "e664fca9",
   "metadata": {},
   "outputs": [],
   "source": [
    "hs = df.Close.loc[df.Close.shift(-1) != df.Close]\n",
    "x = hs.rolling(window=3, center=True).aggregate(lambda x: x[0] > x[1] and x[2] > x[1])\n",
    "minimaIdxs = [df.index.get_loc(y) for y in x[x == 1].index]\n",
    "x = hs.rolling(window=3, center=True).aggregate(lambda x: x[0] < x[1] and x[2] < x[1])\n",
    "maximaIdxs = [df.index.get_loc(y) for y in x[x == 1].index]"
   ]
  },
  {
   "cell_type": "markdown",
   "id": "8c095870",
   "metadata": {},
   "source": [
    "## Numerical Differentiation method\n",
    "\n",
    "However a far more elegant approach to this issue is to use the numerical derivative of the closing price to identify the points. The first derivative is the rate of change or effectively the momentum or velocity of the closing price, while the second derivative indicates the rate of change of the first derivative or its acceleration. Normal differentiation does not apply here as a discrete time series requires discrete numerical analysis tools. There are several advantages including that the numerical derivative will smooth out the data by considering all points in a given range from the point at which the rate of change is to be computed. For example the 5 points stencil method which considers some increment before and ahead, as well as a double increment before and ahead along with the point itself. The findiff library makes this computation easy and accurate even using higher order approximation methods:"
   ]
  },
  {
   "cell_type": "code",
   "execution_count": 11,
   "id": "cc4abc5e",
   "metadata": {},
   "outputs": [
    {
     "name": "stdout",
     "output_type": "stream",
     "text": [
      "Collecting findiff\n",
      "  Downloading findiff-0.8.9.tar.gz (26 kB)\n",
      "  Preparing metadata (setup.py) ... \u001b[?25ldone\n",
      "\u001b[?25hRequirement already satisfied: numpy in /home/anshul/web/experimental/env/lib/python3.6/site-packages (from findiff) (1.19.5)\n",
      "Requirement already satisfied: scipy in /home/anshul/web/experimental/env/lib/python3.6/site-packages (from findiff) (1.5.4)\n",
      "Collecting sympy\n",
      "  Downloading sympy-1.9-py3-none-any.whl (6.2 MB)\n",
      "     |████████████████████████████████| 6.2 MB 966 kB/s            \n",
      "\u001b[?25hCollecting mpmath>=0.19\n",
      "  Downloading mpmath-1.2.1-py3-none-any.whl (532 kB)\n",
      "     |████████████████████████████████| 532 kB 12.6 MB/s            \n",
      "\u001b[?25hBuilding wheels for collected packages: findiff\n",
      "  Building wheel for findiff (setup.py) ... \u001b[?25ldone\n",
      "\u001b[?25h  Created wheel for findiff: filename=findiff-0.8.9-py3-none-any.whl size=29227 sha256=d27fa05a6dffddc4f055a9961a6e409e99257b30cf6d7c923345ae54b01162f2\n",
      "  Stored in directory: /home/anshul/.cache/pip/wheels/cd/c2/01/3073c488ab91444627e03d21ca5aa963028b0ec94b47e0691b\n",
      "Successfully built findiff\n",
      "Installing collected packages: mpmath, sympy, findiff\n",
      "Successfully installed findiff-0.8.9 mpmath-1.2.1 sympy-1.9\n"
     ]
    }
   ],
   "source": [
    "# Install a pip package in the current Jupyter kernel\n",
    "import sys\n",
    "!{sys.executable} -m pip install findiff"
   ]
  },
  {
   "cell_type": "code",
   "execution_count": 19,
   "id": "f1c8375f",
   "metadata": {},
   "outputs": [],
   "source": [
    "from findiff import FinDiff #pip install findiff\n",
    "dx = 1 #1 day interval\n",
    "d_dx = FinDiff(0, dx, 1) #First partial derivative along 0th dimension with interval dx\n",
    "d2_dx2 = FinDiff(0, dx, 2) #Second partial derivative along 0th dimension with interval dx\n",
    "\n",
    "clarr = np.asarray(df.Close, dtype=np.float64)\n",
    "mom = d_dx(clarr) #velocity is momentum\n",
    "momacc = d2_dx2(clarr) #acceleration"
   ]
  },
  {
   "cell_type": "markdown",
   "id": "e191613a",
   "metadata": {},
   "source": [
    "With the first and second derivative calculated, a degree of smoothing has effectively occurred giving us the prominent peaks and troughs. They are the places where the first derivative is 0 as no momentum indicates a change of direction has occurred. The second derivative being positive or negative indicates a trough or peak, respectively as upward verses downward acceleration indicates the reversal in direction. However, an exact first derivative of 0 is very unlikely. Instead a value on one side of 0 followed by another is realistically what will occur since the point of 0 derivative occurred in between two days. So based on this, the higher or lower closing price will be chosen between two points where a 0 crossover has occurred:"
   ]
  },
  {
   "cell_type": "code",
   "execution_count": 20,
   "id": "76f747e4",
   "metadata": {},
   "outputs": [],
   "source": [
    "def get_extrema(isMin):\n",
    "  return [x for x in range(len(mom))\n",
    "    if (momacc[x] > 0 if isMin else momacc[x] < 0) and\n",
    "      (mom[x] == 0 or #slope is 0\n",
    "        (x != len(mom) - 1 and #check next day\n",
    "          (mom[x] > 0 and mom[x+1] < 0 and\n",
    "           h[x] >= h[x+1] or\n",
    "           mom[x] < 0 and mom[x+1] > 0 and\n",
    "           h[x] <= h[x+1]) or\n",
    "         x != 0 and #check prior day\n",
    "          (mom[x-1] > 0 and mom[x] < 0 and\n",
    "           h[x-1] < h[x] or\n",
    "           mom[x-1] < 0 and mom[x] > 0 and\n",
    "           h[x-1] > h[x])))]\n",
    "minimaIdxs, maximaIdxs = get_extrema(True), get_extrema(False)"
   ]
  },
  {
   "cell_type": "code",
   "execution_count": 21,
   "id": "755bddf6",
   "metadata": {},
   "outputs": [
    {
     "name": "stdout",
     "output_type": "stream",
     "text": [
      "Requirement already satisfied: trendln in /home/anshul/web/experimental/env/lib/python3.6/site-packages (0.1.10)\n",
      "Requirement already satisfied: findiff>=0.7.0 in /home/anshul/web/experimental/env/lib/python3.6/site-packages (from trendln) (0.8.9)\n",
      "Requirement already satisfied: matplotlib>=2.2.4 in /home/anshul/web/experimental/env/lib/python3.6/site-packages (from trendln) (3.3.4)\n",
      "Requirement already satisfied: pandas>=0.23.1 in /home/anshul/web/experimental/env/lib/python3.6/site-packages (from trendln) (1.1.5)\n",
      "Requirement already satisfied: numpy>=1.15 in /home/anshul/web/experimental/env/lib/python3.6/site-packages (from trendln) (1.19.5)\n",
      "Requirement already satisfied: scikit-image>=0.14.0 in /home/anshul/web/experimental/env/lib/python3.6/site-packages (from trendln) (0.17.2)\n",
      "Requirement already satisfied: sympy in /home/anshul/web/experimental/env/lib/python3.6/site-packages (from findiff>=0.7.0->trendln) (1.9)\n",
      "Requirement already satisfied: scipy in /home/anshul/web/experimental/env/lib/python3.6/site-packages (from findiff>=0.7.0->trendln) (1.5.4)\n",
      "Requirement already satisfied: python-dateutil>=2.1 in /home/anshul/web/experimental/env/lib/python3.6/site-packages (from matplotlib>=2.2.4->trendln) (2.8.2)\n",
      "Requirement already satisfied: pyparsing!=2.0.4,!=2.1.2,!=2.1.6,>=2.0.3 in /home/anshul/web/experimental/env/lib/python3.6/site-packages (from matplotlib>=2.2.4->trendln) (3.0.6)\n",
      "Requirement already satisfied: cycler>=0.10 in /home/anshul/web/experimental/env/lib/python3.6/site-packages (from matplotlib>=2.2.4->trendln) (0.11.0)\n",
      "Requirement already satisfied: pillow>=6.2.0 in /home/anshul/web/experimental/env/lib/python3.6/site-packages (from matplotlib>=2.2.4->trendln) (8.4.0)\n",
      "Requirement already satisfied: kiwisolver>=1.0.1 in /home/anshul/web/experimental/env/lib/python3.6/site-packages (from matplotlib>=2.2.4->trendln) (1.3.1)\n",
      "Requirement already satisfied: pytz>=2017.2 in /home/anshul/web/experimental/env/lib/python3.6/site-packages (from pandas>=0.23.1->trendln) (2021.3)\n",
      "Requirement already satisfied: imageio>=2.3.0 in /home/anshul/web/experimental/env/lib/python3.6/site-packages (from scikit-image>=0.14.0->trendln) (2.15.0)\n",
      "Requirement already satisfied: tifffile>=2019.7.26 in /home/anshul/web/experimental/env/lib/python3.6/site-packages (from scikit-image>=0.14.0->trendln) (2020.9.3)\n",
      "Requirement already satisfied: PyWavelets>=1.1.1 in /home/anshul/web/experimental/env/lib/python3.6/site-packages (from scikit-image>=0.14.0->trendln) (1.1.1)\n",
      "Requirement already satisfied: networkx>=2.0 in /home/anshul/web/experimental/env/lib/python3.6/site-packages (from scikit-image>=0.14.0->trendln) (2.5.1)\n",
      "Requirement already satisfied: decorator<5,>=4.3 in /home/anshul/web/experimental/env/lib/python3.6/site-packages (from networkx>=2.0->scikit-image>=0.14.0->trendln) (4.4.2)\n",
      "Requirement already satisfied: six>=1.5 in /home/anshul/web/experimental/env/lib/python3.6/site-packages (from python-dateutil>=2.1->matplotlib>=2.2.4->trendln) (1.16.0)\n",
      "Requirement already satisfied: mpmath>=0.19 in /home/anshul/web/experimental/env/lib/python3.6/site-packages (from sympy->findiff>=0.7.0->trendln) (1.2.1)\n"
     ]
    }
   ],
   "source": [
    "# Install a pip package in the current Jupyter kernel\n",
    "import sys\n",
    "!{sys.executable} -m pip install trendln --upgrade --no-cache-dir"
   ]
  },
  {
   "cell_type": "code",
   "execution_count": 23,
   "id": "97582c56",
   "metadata": {},
   "outputs": [
    {
     "name": "stdout",
     "output_type": "stream",
     "text": [
      "<class 'pandas.core.series.Series'>\n"
     ]
    }
   ],
   "source": [
    "import trendln\n",
    "h = df.Close\n",
    "print(type(h))\n",
    "mins, maxs = trendln.calc_support_resistance(h, accuracy=8)"
   ]
  },
  {
   "cell_type": "code",
   "execution_count": 25,
   "id": "0d08c5c4",
   "metadata": {},
   "outputs": [
    {
     "data": {
      "image/png": "[encoded data removed]",
      "text/plain": [
       "<Figure size 432x288 with 1 Axes>"
      ]
     },
     "metadata": {
      "needs_background": "light"
     },
     "output_type": "display_data"
    },
    {
     "data": {
      "text/plain": [
       "<Figure size 432x288 with 0 Axes>"
      ]
     },
     "metadata": {},
     "output_type": "display_data"
    }
   ],
   "source": [
    "fig = trendln.plot_support_resistance(df.Close, accuracy=2) # requires matplotlib - pip install matplotlib\n",
    "plt.savefig('suppres.svg', format='svg')\n",
    "plt.show()\n",
    "plt.clf() #clear figure"
   ]
  }
 ],
 "metadata": {
  "kernelspec": {
   "display_name": "Python 3",
   "language": "python",
   "name": "python3"
  },
  "language_info": {
   "codemirror_mode": {
    "name": "ipython",
    "version": 3
   },
   "file_extension": ".py",
   "mimetype": "text/x-python",
   "name": "python",
   "nbconvert_exporter": "python",
   "pygments_lexer": "ipython3",
   "version": "3.6.9"
  }
 },
 "nbformat": 4,
 "nbformat_minor": 5
}
