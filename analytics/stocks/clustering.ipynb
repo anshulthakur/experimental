{
 "cells": [
  {
   "cell_type": "code",
   "execution_count": 1,
   "id": "99235afd",
   "metadata": {},
   "outputs": [
    {
     "data": {
      "application/javascript": [
       "IPython.OutputArea.prototype._should_scroll = function(lines) {\n",
       "    return false;\n",
       "}\n"
      ],
      "text/plain": [
       "<IPython.core.display.Javascript object>"
      ]
     },
     "metadata": {},
     "output_type": "display_data"
    }
   ],
   "source": [
    "%%javascript\n",
    "IPython.OutputArea.prototype._should_scroll = function(lines) {\n",
    "    return false;\n",
    "}"
   ]
  },
  {
   "cell_type": "code",
   "execution_count": 2,
   "id": "cde2b8f8",
   "metadata": {},
   "outputs": [],
   "source": [
    "#Import basic libraries\n",
    "%matplotlib inline\n",
    "\n",
    "\n",
    "import os\n",
    "import sys\n",
    "import settings\n",
    "import matplotlib\n",
    "import numpy as np\n",
    "import matplotlib.pyplot as plt\n",
    "import pandas as pd\n",
    "\n",
    "from django_pandas.io import read_frame\n",
    "from mplfinance.original_flavor import candlestick_ohlc\n",
    "import matplotlib.dates as mpl_dates\n",
    "\n",
    "from matplotlib.dates import date2num"
   ]
  },
  {
   "cell_type": "code",
   "execution_count": 3,
   "id": "5e284d36",
   "metadata": {},
   "outputs": [],
   "source": [
    "#Prepare to load stock data as pandas dataframe from source. In this case, prepare django\n",
    "import django\n",
    "os.environ.setdefault('DJANGO_SETTINGS_MODULE', 'rest.settings')\n",
    "os.environ[\"DJANGO_ALLOW_ASYNC_UNSAFE\"] = \"true\"\n",
    "django.setup()\n",
    "\n",
    "from stocks.models import Listing, Stock"
   ]
  },
  {
   "cell_type": "code",
   "execution_count": null,
   "id": "4c195506",
   "metadata": {},
   "outputs": [],
   "source": [
    "#Get all the stocks listing\n",
    "#Create a composite dataframe of closing prices for all securities \n",
    "#and compute correlation across all of them (and cluster them together)\n",
    "\n",
    "def get_stock_listing(stock):\n",
    "    import datetime\n",
    "    first_date = datetime.date(2020, 1, 1)\n",
    "    last_date = datetime.date(2020, 12, 31)\n",
    "    listing = Listing.objects.filter(stock=stock, date__range=(first_date, last_date))\n",
    "    df = read_frame(listing, fieldnames=['closing', 'date'], index_col='date')\n",
    "    for column in df.columns:\n",
    "        if column != 'stock':\n",
    "           df[column] = pd.to_numeric(df[column]) \n",
    "    df = df.sort_index()\n",
    "    df = df.reindex(columns = ['closing'])\n",
    "    df.rename(columns={\"closing\":stock.sid.replace(' ', '_')}, inplace=True)\n",
    "    #Optionally, filter out by date range\n",
    "    #start_date = '2020-01-01'\n",
    "    #end_date = '2021-12-31'\n",
    "    #df = df.loc[start_date:end_date]\n",
    "    return df\n",
    "\n",
    "stocks = Stock.objects.all()\n",
    "df = pd.DataFrame()\n",
    "for stock in stocks:\n",
    "    if stock.name != 'NIFTY' and stock.name != 'BANKNIFTY':\n",
    "        sdf = get_stock_listing(stock)\n",
    "        if len(sdf>0):\n",
    "            #df = df.append(sdf)\n",
    "            df = pd.concat([df, sdf])\n",
    "\n",
    "for col in df.columns:\n",
    "    print(col)\n",
    "\n",
    "store = pd.HDFStore('store.h5')\n",
    "\n",
    "store['df'] = df  # save it\n",
    "#store['df']  # load it\n",
    "print('Done')"
   ]
  }
 ],
 "metadata": {
  "kernelspec": {
   "display_name": "Python 3 (ipykernel)",
   "language": "python",
   "name": "python3"
  },
  "language_info": {
   "codemirror_mode": {
    "name": "ipython",
    "version": 3
   },
   "file_extension": ".py",
   "mimetype": "text/x-python",
   "name": "python",
   "nbconvert_exporter": "python",
   "pygments_lexer": "ipython3",
   "version": "3.8.10"
  }
 },
 "nbformat": 4,
 "nbformat_minor": 5
}
