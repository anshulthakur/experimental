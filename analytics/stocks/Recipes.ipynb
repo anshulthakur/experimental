{
 "cells": [
  {
   "cell_type": "markdown",
   "id": "6a484777",
   "metadata": {},
   "source": [
    "Install using pip from Notebook"
   ]
  },
  {
   "cell_type": "code",
   "execution_count": null,
   "id": "d3776207",
   "metadata": {},
   "outputs": [],
   "source": [
    "import sys\n",
    "!{sys.executable} -m pip install holoviews channels"
   ]
  },
  {
   "cell_type": "markdown",
   "id": "0a4a52ed",
   "metadata": {},
   "source": [
    "Load data from the internet using pandas-datareader"
   ]
  },
  {
   "cell_type": "code",
   "execution_count": null,
   "id": "318a5a90",
   "metadata": {},
   "outputs": [],
   "source": [
    "import numpy as np\n",
    "import pandas as pd\n",
    "import pandas_datareader.data as pdr\n",
    "import datetime\n",
    "\n",
    "symbol = 'SPY'\n",
    "start = datetime.datetime(2018, 1, 1)\n",
    "end = datetime.datetime.now()\n",
    "\n",
    "df = pdr.DataReader(symbol, 'yahoo', start, end)\n",
    "df.tail()"
   ]
  },
  {
   "cell_type": "markdown",
   "id": "8db6bf54",
   "metadata": {},
   "source": [
    "Resample data weekly/monthly"
   ]
  },
  {
   "cell_type": "code",
   "execution_count": null,
   "id": "a0eeeb92",
   "metadata": {},
   "outputs": [],
   "source": [
    "#Resample weekly\n",
    "logic = {'open'  : 'first',\n",
    "         'high'  : 'max',\n",
    "         'low'   : 'min',\n",
    "         'close' : 'last',\n",
    "         'volume': 'sum',\n",
    "         'delivery': 'sum',\n",
    "         'trades': 'sum'}\n",
    "#Resample on weekly levels\n",
    "if monthly:\n",
    "    df = df.resample('M').apply(logic)\n",
    "else:\n",
    "    df = df.resample('W').apply(logic)\n",
    "    df.index -= to_offset(\"6D\") #Offset to Monday"
   ]
  },
  {
   "cell_type": "markdown",
   "id": "e18d1aad",
   "metadata": {},
   "source": [
    "Iterate rows in dataframe"
   ]
  },
  {
   "cell_type": "code",
   "execution_count": null,
   "id": "b34f6299",
   "metadata": {},
   "outputs": [],
   "source": [
    "for index, row in df.iterrows():\n",
    "    pass"
   ]
  },
  {
   "cell_type": "code",
   "execution_count": null,
   "id": "606be352",
   "metadata": {},
   "outputs": [],
   "source": [
    "#Duplicated rows\n",
    "df[df.duplicated(keep=False)]\n",
    "#Duplicated index\n",
    "s_df = s_df[~s_df.index.duplicated(keep='first')]"
   ]
  }
 ],
 "metadata": {
  "kernelspec": {
   "display_name": "Python 3 (ipykernel)",
   "language": "python",
   "name": "python3"
  },
  "language_info": {
   "codemirror_mode": {
    "name": "ipython",
    "version": 3
   },
   "file_extension": ".py",
   "mimetype": "text/x-python",
   "name": "python",
   "nbconvert_exporter": "python",
   "pygments_lexer": "ipython3",
   "version": "3.8.10"
  }
 },
 "nbformat": 4,
 "nbformat_minor": 5
}
